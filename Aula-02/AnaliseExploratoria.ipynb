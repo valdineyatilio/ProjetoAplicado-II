{
 "cells": [
  {
   "cell_type": "markdown",
   "id": "d5888daf-8a14-4136-aebc-fa8abb6b0c06",
   "metadata": {},
   "source": [
    "# Bibliotecas"
   ]
  },
  {
   "cell_type": "code",
   "execution_count": 3,
   "id": "b96565b6-317f-4829-a87e-ac70ea88e7d5",
   "metadata": {},
   "outputs": [],
   "source": [
    "import pandas as pd\n",
    "import matplotlib.pyplot as plt\n",
    "import seaborn as sns"
   ]
  },
  {
   "cell_type": "markdown",
   "id": "8843b922-47e3-4333-ba94-36b222fbfd84",
   "metadata": {},
   "source": [
    "# Carregar a base de dados do arquivo CSV"
   ]
  },
  {
   "cell_type": "code",
   "execution_count": null,
   "id": "b3471d9b-2bce-4859-a17e-a3b62e8bc1b8",
   "metadata": {},
   "outputs": [],
   "source": [
    "url = \"https://raw.githubusercontent.com/valdineyatilio/Projeto-Aplicado-I/main/Aula2/Dados%20YouTube.csv.csv\""
   ]
  }
 ],
 "metadata": {
  "kernelspec": {
   "display_name": "Python 3 (ipykernel)",
   "language": "python",
   "name": "python3"
  },
  "language_info": {
   "codemirror_mode": {
    "name": "ipython",
    "version": 3
   },
   "file_extension": ".py",
   "mimetype": "text/x-python",
   "name": "python",
   "nbconvert_exporter": "python",
   "pygments_lexer": "ipython3",
   "version": "3.11.7"
  }
 },
 "nbformat": 4,
 "nbformat_minor": 5
}
