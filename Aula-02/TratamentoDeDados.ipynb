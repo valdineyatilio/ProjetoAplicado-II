{
 "cells": [
  {
   "cell_type": "markdown",
   "id": "e83af394-ec38-4af8-958d-a875d8a64cf0",
   "metadata": {},
   "source": [
    "# Bibliotecas"
   ]
  },
  {
   "cell_type": "code",
   "execution_count": 182,
   "id": "86aae500-da44-4692-b870-88d95a2151ef",
   "metadata": {},
   "outputs": [],
   "source": [
    "import pandas as pd\n",
    "from sklearn.model_selection import train_test_split\n",
    "from sklearn.preprocessing import StandardScaler"
   ]
  },
  {
   "cell_type": "markdown",
   "id": "dfa52232-38b2-4aba-9fff-bc850315b3e6",
   "metadata": {},
   "source": [
    "# Carregar os dados"
   ]
  },
  {
   "cell_type": "code",
   "execution_count": 185,
   "id": "df5e654e-3ed0-4764-8e14-85fc7338f4e2",
   "metadata": {},
   "outputs": [],
   "source": [
    "url = \"https://github.com/valdineyatilio/ProjetoAplicado-II/raw/refs/heads/main/Aula-02/BaseDeDadosYouTube.csv\""
   ]
  },
  {
   "cell_type": "code",
   "execution_count": 187,
   "id": "10b35789-76b7-46a3-b3b4-f5fa4c8afebb",
   "metadata": {},
   "outputs": [],
   "source": [
    "dados_youtube = pd.read_csv(url, encoding='latin1')"
   ]
  },
  {
   "cell_type": "markdown",
   "id": "ad82191e-760b-4732-84d8-67aba294eed1",
   "metadata": {},
   "source": [
    "# Limpeza de dados"
   ]
  },
  {
   "cell_type": "code",
   "execution_count": 189,
   "id": "7e0bd851-dabe-4ae0-8f77-297bc83d2691",
   "metadata": {},
   "outputs": [],
   "source": [
    "dados_youtube.drop_duplicates(inplace=True)\n",
    "dados_youtube.fillna(dados_youtube.mean(numeric_only=True), inplace=True)"
   ]
  },
  {
   "cell_type": "markdown",
   "id": "3bd8b9c1-e42b-4074-8a1d-b6e8c584407e",
   "metadata": {},
   "source": [
    "# Transformação de dados"
   ]
  },
  {
   "cell_type": "code",
   "execution_count": 191,
   "id": "e1ba39b7-2172-46dd-be56-f432c64f622e",
   "metadata": {},
   "outputs": [],
   "source": [
    "numeric_columns = dados_youtube.select_dtypes(include=['float64', 'int64']).columns\n",
    "scaler = StandardScaler()\n",
    "dados_youtube[numeric_columns] = scaler.fit_transform(dados_youtube[numeric_columns])"
   ]
  },
  {
   "cell_type": "markdown",
   "id": "92f49de8-eca8-452b-be4b-ccb6ec69bc1d",
   "metadata": {},
   "source": [
    "# Dividindo os dados"
   ]
  },
  {
   "cell_type": "code",
   "execution_count": 196,
   "id": "2c8ab1c0-e6b9-41ba-bd0a-2dc7c61a48a5",
   "metadata": {},
   "outputs": [],
   "source": [
    "train_dados_youtube, test_dados_youtube = train_test_split(dados_youtube, test_size=0.2, random_state=42)"
   ]
  },
  {
   "cell_type": "markdown",
   "id": "2f6937d4-3350-40f1-a0e3-044c275cd336",
   "metadata": {},
   "source": [
    "# Exibindo as primeiras linhas dos conjuntos de treinamento e teste"
   ]
  },
  {
   "cell_type": "code",
   "execution_count": 199,
   "id": "dffd851e-a1cd-40c3-8565-f3d5642c5736",
   "metadata": {},
   "outputs": [
    {
     "name": "stdout",
     "output_type": "stream",
     "text": [
      "Conjunto de Treinamento:\n",
      "         rank                 Youtuber  subscribers  video views  \\\n",
      "909  1.434382                7 Minutoz    -0.569860    -0.474340   \n",
      "925  1.490087        Troom Troom India    -0.581278    -0.300308   \n",
      "974  1.660681                 Gibby :)    -0.604112    -0.579764   \n",
      "765  0.933045             Zig & Sharko    -0.489939    -0.142911   \n",
      "911  1.441346  Pastor Antï¿½ï¿½ï¿½ï¿½ï    -0.575569    -0.632971   \n",
      "\n",
      "             category                    Title   uploads Country Abbreviation  \\\n",
      "909             Music                7 Minutoz -0.253884  Brazil           BR   \n",
      "925     Howto & Style        Troom Troom India -0.199276     NaN          NaN   \n",
      "974    People & Blogs                 Gibby :) -0.262526  Mexico           MX   \n",
      "765  Film & Animation             Zig & Sharko -0.240496     NaN          NaN   \n",
      "911    People & Blogs  Pastor Antï¿½ï¿½ï¿½ï¿½ï -0.131104  Brazil           BR   \n",
      "\n",
      "    channel_type  ...  subscribers_for_last_30_days  created_year  \\\n",
      "909        Music  ...                 -2.331950e-16     -0.140102   \n",
      "925        Howto  ...                 -2.331950e-16      0.526731   \n",
      "974       People  ...                 -2.331950e-16      0.304453   \n",
      "765         Film  ...                 -4.989379e-01      0.526731   \n",
      "911       People  ...                 -4.989379e-01      0.082175   \n",
      "\n",
      "     created_month  created_date  Gross tertiary education enrollment (%)  \\\n",
      "909            Jun     -1.342297                            -5.046975e-01   \n",
      "925            Apr      0.371789                             2.908958e-16   \n",
      "974            Aug      1.628787                            -9.591309e-01   \n",
      "765            May     -1.113752                             2.908958e-16   \n",
      "911            Jan      0.371789                            -5.046975e-01   \n",
      "\n",
      "     Population  Unemployment rate  Urban_population  Latitude     Longitude  \n",
      "909   -0.492429           0.612364     -2.831060e-01 -2.124463 -4.766134e-01  \n",
      "925    0.000000           0.000000     -2.059196e-16  0.000000 -2.239946e-17  \n",
      "974   -0.688076          -1.281103     -8.401151e-01 -0.155862 -1.115015e+00  \n",
      "765    0.000000           0.000000     -2.059196e-16  0.000000 -2.239946e-17  \n",
      "911   -0.492429           0.612364     -2.831060e-01 -2.124463 -4.766134e-01  \n",
      "\n",
      "[5 rows x 28 columns]\n",
      "\n",
      "Conjunto de Teste:\n",
      "         rank                              Youtuber  subscribers  video views  \\\n",
      "920  1.472679          ýýýýýýýý ýýýý ýýýýýýýýýýýýýý    -0.575569    -0.386738   \n",
      "525  0.097482                                Anitta    -0.330097    -0.262506   \n",
      "567  0.243706  UFC - Ultimate Fighting Championship    -0.375766    -0.276786   \n",
      "657  0.557042                          Oyuncak Avï¿    -0.444270    -0.191874   \n",
      "633  0.473485                    Henrique e Juliano    -0.427144     0.253832   \n",
      "\n",
      "          category                                 Title   uploads  \\\n",
      "920          Shows          ýýýýýýýý ýýýý ýýýýýýýýýýýýýý -0.232381   \n",
      "525          Music                                Anitta -0.265104   \n",
      "567         Sports  UFC - Ultimate Fighting Championship  0.160393   \n",
      "657  Entertainment                          Oyuncak Avï¿ -0.249988   \n",
      "633          Music                    Henrique e Juliano -0.259626   \n",
      "\n",
      "           Country Abbreviation   channel_type  ...  \\\n",
      "920        Ukraine           UA  Entertainment  ...   \n",
      "525         Brazil           BR          Music  ...   \n",
      "567  United States           US         Sports  ...   \n",
      "657         Turkey           TR  Entertainment  ...   \n",
      "633         Brazil           BR          Music  ...   \n",
      "\n",
      "     subscribers_for_last_30_days  created_year  created_month  created_date  \\\n",
      "920                 -2.986249e-01      0.304453            Jul      0.143245   \n",
      "525                 -2.331950e-16     -0.362380            Nov     -1.570842   \n",
      "567                 -4.989379e-01     -1.473769            Mar     -1.342297   \n",
      "657                 -2.331950e-16      0.304453            Dec      1.514514   \n",
      "633                 -2.331950e-16     -0.806935            Jun      1.285969   \n",
      "\n",
      "     Gross tertiary education enrollment (%)  Population  Unemployment rate  \\\n",
      "920                                 0.780817   -0.872609          -0.087300   \n",
      "525                                -0.504698   -0.492429           0.612364   \n",
      "567                                 1.005987   -0.230918           1.185215   \n",
      "657                                -1.626452   -0.784344           0.920654   \n",
      "633                                -0.504698   -0.492429           0.612364   \n",
      "\n",
      "     Urban_population  Latitude  Longitude  \n",
      "920         -1.336157  1.130474   0.571144  \n",
      "525         -0.283106 -2.124463  -0.476613  \n",
      "567          0.320934  0.543618  -1.028765  \n",
      "657         -1.113242  0.641010   0.622563  \n",
      "633         -0.283106 -2.124463  -0.476613  \n",
      "\n",
      "[5 rows x 28 columns]\n"
     ]
    }
   ],
   "source": [
    "print(\"Conjunto de Treinamento:\")\n",
    "print(train_dados_youtube.head())\n",
    "print(\"\\nConjunto de Teste:\")\n",
    "print(test_dados_youtube.head())"
   ]
  }
 ],
 "metadata": {
  "kernelspec": {
   "display_name": "Python 3 (ipykernel)",
   "language": "python",
   "name": "python3"
  },
  "language_info": {
   "codemirror_mode": {
    "name": "ipython",
    "version": 3
   },
   "file_extension": ".py",
   "mimetype": "text/x-python",
   "name": "python",
   "nbconvert_exporter": "python",
   "pygments_lexer": "ipython3",
   "version": "3.11.7"
  }
 },
 "nbformat": 4,
 "nbformat_minor": 5
}
