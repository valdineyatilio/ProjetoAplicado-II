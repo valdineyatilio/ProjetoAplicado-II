{
 "cells": [
  {
   "cell_type": "markdown",
   "id": "b21900bb-d884-437c-9879-f7ea55d30328",
   "metadata": {},
   "source": [
    "# Bibliotecas"
   ]
  },
  {
   "cell_type": "code",
   "execution_count": 436,
   "id": "c5a26180-0948-4dfb-8cc9-9757964cb0a0",
   "metadata": {},
   "outputs": [],
   "source": [
    "import pandas as pd\n",
    "from sklearn.model_selection import train_test_split\n",
    "from sklearn.metrics import accuracy_score, precision_score, recall_score, f1_score, roc_auc_score\n",
    "from sklearn.ensemble import RandomForestClassifier\n",
    "from sklearn.preprocessing import label_binarize, StandardScaler"
   ]
  },
  {
   "cell_type": "markdown",
   "id": "60ca6ebf-0356-4461-b99e-35722f16bf81",
   "metadata": {},
   "source": [
    "# Carregar os dados"
   ]
  },
  {
   "cell_type": "code",
   "execution_count": 439,
   "id": "aef8161d-690e-4d70-99ce-7ccdf2731edc",
   "metadata": {},
   "outputs": [],
   "source": [
    "url = \"https://github.com/valdineyatilio/ProjetoAplicado-II/raw/refs/heads/main/Aula-02/BaseDeDadosYouTube.csv\"\n",
    "dados_youtube = pd.read_csv(url, encoding='latin1')"
   ]
  },
  {
   "cell_type": "markdown",
   "id": "583d77bf-3296-4809-91cf-fbb4b6a69a96",
   "metadata": {},
   "source": [
    "# Colunas relevantes"
   ]
  },
  {
   "cell_type": "code",
   "execution_count": 441,
   "id": "0ecd172c-8ffe-4303-b46a-d3212130dfdf",
   "metadata": {},
   "outputs": [],
   "source": [
    "dados_selecionados = dados_youtube[['rank', 'subscribers', 'video views', 'category', 'uploads', 'Country', 'video_views_for_the_last_30_days', 'lowest_monthly_earnings', 'highest_monthly_earnings', 'lowest_yearly_earnings', 'highest_yearly_earnings', 'subscribers_for_last_30_days']]"
   ]
  },
  {
   "cell_type": "markdown",
   "id": "e85aa087-64a3-4196-9771-65b056ee826b",
   "metadata": {},
   "source": [
    "# Pré-processamento dos dados"
   ]
  },
  {
   "cell_type": "code",
   "execution_count": 445,
   "id": "cb537ab3-0b3b-47bc-ab4b-291c315e05ec",
   "metadata": {},
   "outputs": [],
   "source": [
    "X = dados_selecionados.drop('subscribers', axis=1)\n",
    "y = dados_selecionados['subscribers']"
   ]
  },
  {
   "cell_type": "markdown",
   "id": "a9d0f4c6-9f20-4bf5-94a7-ee62966c7ad4",
   "metadata": {},
   "source": [
    "# Tratar valores ausentes"
   ]
  },
  {
   "cell_type": "code",
   "execution_count": 448,
   "id": "e879c6e3-e4a1-4625-a755-02ad9485bd83",
   "metadata": {},
   "outputs": [],
   "source": [
    "X = X.fillna(0)\n",
    "y = y.fillna(0)"
   ]
  },
  {
   "cell_type": "markdown",
   "id": "38c5e51a-e15f-48a1-a97d-7106ef5f19fc",
   "metadata": {},
   "source": [
    "# Codificar variáveis categóricas"
   ]
  },
  {
   "cell_type": "code",
   "execution_count": 451,
   "id": "4f7aa34f-dc39-4c61-8fa7-5ca4af478335",
   "metadata": {},
   "outputs": [],
   "source": [
    "X = pd.get_dummies(X, columns=['category', 'Country'], drop_first=True)"
   ]
  },
  {
   "cell_type": "markdown",
   "id": "e984bfad-a0cd-46b1-87ce-54b639520f83",
   "metadata": {},
   "source": [
    "# Normalizar os dados"
   ]
  },
  {
   "cell_type": "code",
   "execution_count": 454,
   "id": "9715ec6d-b416-4e66-b3c4-972b23ecacda",
   "metadata": {},
   "outputs": [],
   "source": [
    "scaler = StandardScaler()\n",
    "X = scaler.fit_transform(X)"
   ]
  },
  {
   "cell_type": "markdown",
   "id": "ab7e5586-5ed7-4641-944e-e43a61b3fe9a",
   "metadata": {},
   "source": [
    "# Dividir os dados em treino e teste "
   ]
  },
  {
   "cell_type": "code",
   "execution_count": 457,
   "id": "19907115-a5f0-4ede-b6dd-c63ee06ef863",
   "metadata": {},
   "outputs": [],
   "source": [
    "X_train, X_test, y_train, y_test = train_test_split(X, y, test_size=0.2, random_state=42)"
   ]
  },
  {
   "cell_type": "markdown",
   "id": "924da0ec-1acb-44c2-a71f-e89693741eeb",
   "metadata": {},
   "source": [
    "# Treinar o modelo"
   ]
  },
  {
   "cell_type": "code",
   "execution_count": 460,
   "id": "b1943fd1-672b-40f9-9a43-169ea6f77fd8",
   "metadata": {},
   "outputs": [
    {
     "data": {
      "text/html": [
       "<style>#sk-container-id-8 {color: black;background-color: white;}#sk-container-id-8 pre{padding: 0;}#sk-container-id-8 div.sk-toggleable {background-color: white;}#sk-container-id-8 label.sk-toggleable__label {cursor: pointer;display: block;width: 100%;margin-bottom: 0;padding: 0.3em;box-sizing: border-box;text-align: center;}#sk-container-id-8 label.sk-toggleable__label-arrow:before {content: \"▸\";float: left;margin-right: 0.25em;color: #696969;}#sk-container-id-8 label.sk-toggleable__label-arrow:hover:before {color: black;}#sk-container-id-8 div.sk-estimator:hover label.sk-toggleable__label-arrow:before {color: black;}#sk-container-id-8 div.sk-toggleable__content {max-height: 0;max-width: 0;overflow: hidden;text-align: left;background-color: #f0f8ff;}#sk-container-id-8 div.sk-toggleable__content pre {margin: 0.2em;color: black;border-radius: 0.25em;background-color: #f0f8ff;}#sk-container-id-8 input.sk-toggleable__control:checked~div.sk-toggleable__content {max-height: 200px;max-width: 100%;overflow: auto;}#sk-container-id-8 input.sk-toggleable__control:checked~label.sk-toggleable__label-arrow:before {content: \"▾\";}#sk-container-id-8 div.sk-estimator input.sk-toggleable__control:checked~label.sk-toggleable__label {background-color: #d4ebff;}#sk-container-id-8 div.sk-label input.sk-toggleable__control:checked~label.sk-toggleable__label {background-color: #d4ebff;}#sk-container-id-8 input.sk-hidden--visually {border: 0;clip: rect(1px 1px 1px 1px);clip: rect(1px, 1px, 1px, 1px);height: 1px;margin: -1px;overflow: hidden;padding: 0;position: absolute;width: 1px;}#sk-container-id-8 div.sk-estimator {font-family: monospace;background-color: #f0f8ff;border: 1px dotted black;border-radius: 0.25em;box-sizing: border-box;margin-bottom: 0.5em;}#sk-container-id-8 div.sk-estimator:hover {background-color: #d4ebff;}#sk-container-id-8 div.sk-parallel-item::after {content: \"\";width: 100%;border-bottom: 1px solid gray;flex-grow: 1;}#sk-container-id-8 div.sk-label:hover label.sk-toggleable__label {background-color: #d4ebff;}#sk-container-id-8 div.sk-serial::before {content: \"\";position: absolute;border-left: 1px solid gray;box-sizing: border-box;top: 0;bottom: 0;left: 50%;z-index: 0;}#sk-container-id-8 div.sk-serial {display: flex;flex-direction: column;align-items: center;background-color: white;padding-right: 0.2em;padding-left: 0.2em;position: relative;}#sk-container-id-8 div.sk-item {position: relative;z-index: 1;}#sk-container-id-8 div.sk-parallel {display: flex;align-items: stretch;justify-content: center;background-color: white;position: relative;}#sk-container-id-8 div.sk-item::before, #sk-container-id-8 div.sk-parallel-item::before {content: \"\";position: absolute;border-left: 1px solid gray;box-sizing: border-box;top: 0;bottom: 0;left: 50%;z-index: -1;}#sk-container-id-8 div.sk-parallel-item {display: flex;flex-direction: column;z-index: 1;position: relative;background-color: white;}#sk-container-id-8 div.sk-parallel-item:first-child::after {align-self: flex-end;width: 50%;}#sk-container-id-8 div.sk-parallel-item:last-child::after {align-self: flex-start;width: 50%;}#sk-container-id-8 div.sk-parallel-item:only-child::after {width: 0;}#sk-container-id-8 div.sk-dashed-wrapped {border: 1px dashed gray;margin: 0 0.4em 0.5em 0.4em;box-sizing: border-box;padding-bottom: 0.4em;background-color: white;}#sk-container-id-8 div.sk-label label {font-family: monospace;font-weight: bold;display: inline-block;line-height: 1.2em;}#sk-container-id-8 div.sk-label-container {text-align: center;}#sk-container-id-8 div.sk-container {/* jupyter's `normalize.less` sets `[hidden] { display: none; }` but bootstrap.min.css set `[hidden] { display: none !important; }` so we also need the `!important` here to be able to override the default hidden behavior on the sphinx rendered scikit-learn.org. See: https://github.com/scikit-learn/scikit-learn/issues/21755 */display: inline-block !important;position: relative;}#sk-container-id-8 div.sk-text-repr-fallback {display: none;}</style><div id=\"sk-container-id-8\" class=\"sk-top-container\"><div class=\"sk-text-repr-fallback\"><pre>RandomForestClassifier()</pre><b>In a Jupyter environment, please rerun this cell to show the HTML representation or trust the notebook. <br />On GitHub, the HTML representation is unable to render, please try loading this page with nbviewer.org.</b></div><div class=\"sk-container\" hidden><div class=\"sk-item\"><div class=\"sk-estimator sk-toggleable\"><input class=\"sk-toggleable__control sk-hidden--visually\" id=\"sk-estimator-id-8\" type=\"checkbox\" checked><label for=\"sk-estimator-id-8\" class=\"sk-toggleable__label sk-toggleable__label-arrow\">RandomForestClassifier</label><div class=\"sk-toggleable__content\"><pre>RandomForestClassifier()</pre></div></div></div></div></div>"
      ],
      "text/plain": [
       "RandomForestClassifier()"
      ]
     },
     "execution_count": 460,
     "metadata": {},
     "output_type": "execute_result"
    }
   ],
   "source": [
    "modelo = RandomForestClassifier()\n",
    "modelo.fit(X_train, y_train)"
   ]
  },
  {
   "cell_type": "markdown",
   "id": "452ac813-654f-493b-880a-1a6448c09d2d",
   "metadata": {},
   "source": [
    "# Fazer previsões"
   ]
  },
  {
   "cell_type": "code",
   "execution_count": 463,
   "id": "2fbeeaae-e055-48f4-a1c9-952272476065",
   "metadata": {},
   "outputs": [],
   "source": [
    "y_pred = modelo.predict(X_test)"
   ]
  },
  {
   "cell_type": "markdown",
   "id": "236f0816-a187-41ce-973f-aa93bf71a8f4",
   "metadata": {},
   "source": [
    "# Calcular métricas"
   ]
  },
  {
   "cell_type": "code",
   "execution_count": 466,
   "id": "2c744ec9-90d1-4d25-b82d-4f6c2574a6c3",
   "metadata": {},
   "outputs": [
    {
     "name": "stdout",
     "output_type": "stream",
     "text": [
      "Erro ao calcular AUC-ROC: Only one class present in y_true. ROC AUC score is not defined in that case.\n",
      "Acurácia: 0.08040201005025126\n",
      "Precisão: 0.5325915290739411\n",
      "Recall: 0.08040201005025126\n",
      "F1-Score: 0.060062215841110315\n"
     ]
    }
   ],
   "source": [
    "acuracia = accuracy_score(y_test, y_pred)\n",
    "precisao = precision_score(y_test, y_pred, average='weighted', zero_division=1)\n",
    "recall = recall_score(y_test, y_pred, average='weighted', zero_division=1)\n",
    "f1 = f1_score(y_test, y_pred, average='weighted', zero_division=1)\n",
    "\n",
    "# Verificar se há mais de uma classe em y_test\n",
    "if len(set(y_test)) > 1:\n",
    "    # Binarizar as classes para o cálculo do ROC AUC\n",
    "    classes = list(set(y_train) | set(y_test))\n",
    "    y_test_binarized = label_binarize(y_test, classes=classes)\n",
    "    y_pred_proba = modelo.predict_proba(X_test)\n",
    "\n",
    "    # Calcular ROC AUC\n",
    "    try:\n",
    "        roc_auc = roc_auc_score(y_test_binarized, y_pred_proba, multi_class='ovr')\n",
    "        print(f\"AUC-ROC: {roc_auc}\")\n",
    "    except ValueError as e:\n",
    "        print(f\"Erro ao calcular AUC-ROC: {e}\")\n",
    "else:\n",
    "    print(\"AUC-ROC: Não é possível calcular o AUC-ROC com apenas uma classe presente em y_test.\")\n",
    "\n",
    "print(f\"Acurácia: {acuracia}\")\n",
    "print(f\"Precisão: {precisao}\")\n",
    "print(f\"Recall: {recall}\")\n",
    "print(f\"F1-Score: {f1}\")"
   ]
  },
  {
   "cell_type": "code",
   "execution_count": null,
   "id": "179a5d1c-1e2b-41ba-968e-ea552f3d3b52",
   "metadata": {},
   "outputs": [],
   "source": []
  }
 ],
 "metadata": {
  "kernelspec": {
   "display_name": "Python 3 (ipykernel)",
   "language": "python",
   "name": "python3"
  },
  "language_info": {
   "codemirror_mode": {
    "name": "ipython",
    "version": 3
   },
   "file_extension": ".py",
   "mimetype": "text/x-python",
   "name": "python",
   "nbconvert_exporter": "python",
   "pygments_lexer": "ipython3",
   "version": "3.11.7"
  }
 },
 "nbformat": 4,
 "nbformat_minor": 5
}
