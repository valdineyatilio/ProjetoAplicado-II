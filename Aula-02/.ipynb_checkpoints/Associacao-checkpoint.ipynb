{
 "cells": [
  {
   "cell_type": "markdown",
   "id": "f20723f8-dcbc-4f43-8254-9d79e9e65ee1",
   "metadata": {},
   "source": [
    "# Bibliotecas"
   ]
  },
  {
   "cell_type": "code",
   "execution_count": 150,
   "id": "8c510725-9195-4bc2-9dee-59d76b57f28a",
   "metadata": {},
   "outputs": [],
   "source": [
    "#Encontra regras de associação entre Country e high_earnings"
   ]
  },
  {
   "cell_type": "code",
   "execution_count": 152,
   "id": "d9d68cd8-543f-4981-8f84-891ba2abd0af",
   "metadata": {},
   "outputs": [],
   "source": [
    "#pip install mlxtend"
   ]
  },
  {
   "cell_type": "code",
   "execution_count": 154,
   "id": "14f28b19-371d-4f5e-98f6-5d0302c72889",
   "metadata": {},
   "outputs": [],
   "source": [
    "import pandas as pd\n",
    "from mlxtend.frequent_patterns import apriori, association_rules"
   ]
  },
  {
   "cell_type": "markdown",
   "id": "4a681d12-f844-45fc-848e-361d4d482196",
   "metadata": {},
   "source": [
    "# Carregar a base de dados"
   ]
  },
  {
   "cell_type": "code",
   "execution_count": 157,
   "id": "a6a99eef-e615-4cc7-a943-bca876bfa188",
   "metadata": {},
   "outputs": [],
   "source": [
    "url = \"https://github.com/valdineyatilio/ProjetoAplicado-II/raw/refs/heads/main/Aula-02/BaseDeDadosYouTube.csv\"\n",
    "dados_youtube = pd.read_csv(url, encoding='latin1')\n"
   ]
  },
  {
   "cell_type": "markdown",
   "id": "0258139b-7cb2-4456-994e-b5c63e211fa0",
   "metadata": {},
   "source": [
    "# Preparar os dados para associação"
   ]
  },
  {
   "cell_type": "code",
   "execution_count": 160,
   "id": "2215a7be-afc7-45cd-b8a8-e9e976fd51bd",
   "metadata": {},
   "outputs": [],
   "source": [
    "dados_youtube['high_earnings'] = dados_youtube['highest_yearly_earnings'] > 1000000\n",
    "basket = dados_youtube.groupby(['Country', 'high_earnings'])['rank'].count().unstack().fillna(0)"
   ]
  },
  {
   "cell_type": "markdown",
   "id": "cc6be8e4-11de-4347-a9ea-9375ecbb1fab",
   "metadata": {},
   "source": [
    "# Converter os dados para booleanos usando map"
   ]
  },
  {
   "cell_type": "code",
   "execution_count": 163,
   "id": "8623ee5b-735d-4495-b7f7-91e1e7f424e7",
   "metadata": {},
   "outputs": [],
   "source": [
    "basket = basket > 0"
   ]
  },
  {
   "cell_type": "markdown",
   "id": "b3589a90-1807-4c8b-b41e-326632a76d16",
   "metadata": {},
   "source": [
    "# Aplicando o algoritmo"
   ]
  },
  {
   "cell_type": "code",
   "execution_count": 166,
   "id": "830d14f8-1533-4e9c-a2be-b464d8ae9aa2",
   "metadata": {},
   "outputs": [
    {
     "name": "stdout",
     "output_type": "stream",
     "text": [
      "Empty DataFrame\n",
      "Columns: [antecedents, consequents, antecedent support, consequent support, support, confidence, lift, leverage, conviction, zhangs_metric]\n",
      "Index: []\n"
     ]
    }
   ],
   "source": [
    "frequent_itemsets = apriori(basket, min_support=0.1, use_colnames=True)\n",
    "rules = association_rules(frequent_itemsets, metric=\"lift\", min_threshold=1)\n",
    "\n",
    "print(rules)"
   ]
  },
  {
   "cell_type": "code",
   "execution_count": null,
   "id": "a17760a0-8c42-4c5a-bb5a-b75b3e5f4fd6",
   "metadata": {},
   "outputs": [],
   "source": []
  }
 ],
 "metadata": {
  "kernelspec": {
   "display_name": "Python 3 (ipykernel)",
   "language": "python",
   "name": "python3"
  },
  "language_info": {
   "codemirror_mode": {
    "name": "ipython",
    "version": 3
   },
   "file_extension": ".py",
   "mimetype": "text/x-python",
   "name": "python",
   "nbconvert_exporter": "python",
   "pygments_lexer": "ipython3",
   "version": "3.11.7"
  }
 },
 "nbformat": 4,
 "nbformat_minor": 5
}
