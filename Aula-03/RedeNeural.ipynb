{
 "cells": [
  {
   "cell_type": "markdown",
   "id": "14c50ceb-73d1-4820-af3b-4500e1e4e5fc",
   "metadata": {},
   "source": [
    "# Bibliotecas "
   ]
  },
  {
   "cell_type": "code",
   "execution_count": 194,
   "id": "47b4f5c4-8807-4191-b3f6-996cd014acbe",
   "metadata": {},
   "outputs": [],
   "source": [
    "#Utilizar subscribers, video views e uploads para prever highest_yearly_earnings"
   ]
  },
  {
   "cell_type": "code",
   "execution_count": 196,
   "id": "094c38d8-43f4-44a9-a582-d67c79455e85",
   "metadata": {},
   "outputs": [],
   "source": [
    "import pandas as pd\n",
    "from sklearn.model_selection import train_test_split\n",
    "from sklearn.preprocessing import StandardScaler\n",
    "from sklearn.neural_network import MLPRegressor\n",
    "from sklearn.metrics import mean_squared_error"
   ]
  },
  {
   "cell_type": "markdown",
   "id": "bac6b558-5eaa-402a-844e-b905c91111c0",
   "metadata": {},
   "source": [
    "# Carregar a base de dados"
   ]
  },
  {
   "cell_type": "code",
   "execution_count": 199,
   "id": "97f5acbc-1120-4aff-9f91-5eb614688d4e",
   "metadata": {},
   "outputs": [],
   "source": [
    "url = \"https://github.com/valdineyatilio/ProjetoAplicado-II/raw/refs/heads/main/Aula-02/BaseDeDadosYouTube.csv\"\n",
    "dados_youtube = pd.read_csv(url, encoding='latin1')"
   ]
  },
  {
   "cell_type": "markdown",
   "id": "b3538af1-b7b5-4dfd-8455-aade4922a09f",
   "metadata": {},
   "source": [
    "# Preparar os dados"
   ]
  },
  {
   "cell_type": "code",
   "execution_count": 202,
   "id": "da26d15b-ed83-41fe-9540-801e6b04cfe4",
   "metadata": {},
   "outputs": [],
   "source": [
    "X = dados_youtube[['subscribers', 'video views', 'uploads']]\n",
    "y = dados_youtube['highest_yearly_earnings']\n",
    "X_train, X_test, y_train, y_test = train_test_split(X, y, test_size=0.2, random_state=42)"
   ]
  },
  {
   "cell_type": "markdown",
   "id": "c95b17f2-9417-45d8-a574-c1c0dfe08818",
   "metadata": {},
   "source": [
    "# Normalizar os dados"
   ]
  },
  {
   "cell_type": "code",
   "execution_count": 205,
   "id": "1d5b82ec-0742-47c7-9054-cf8e4ea2e194",
   "metadata": {},
   "outputs": [],
   "source": [
    "scaler = StandardScaler()\n",
    "X_train = scaler.fit_transform(X_train)\n",
    "X_test = scaler.transform(X_test)"
   ]
  },
  {
   "cell_type": "markdown",
   "id": "6d747c97-d708-40f5-bdec-05557df4e7d2",
   "metadata": {},
   "source": [
    "# Treinar a rede neural"
   ]
  },
  {
   "cell_type": "code",
   "execution_count": 208,
   "id": "70925e89-7573-41a4-acd3-da35651eba52",
   "metadata": {},
   "outputs": [],
   "source": [
    "modelo = MLPRegressor(hidden_layer_sizes=(100, 50), max_iter=2000, learning_rate_init=0.0001, solver='sgd', alpha=0.001, random_state=42)\n",
    "modelo.fit(X_train, y_train)\n",
    "y_pred = modelo.predict(X_test)"
   ]
  },
  {
   "cell_type": "markdown",
   "id": "46be024a-df9f-489d-aa60-8aa74bb51b9c",
   "metadata": {},
   "source": [
    "# Avaliar o modelo"
   ]
  },
  {
   "cell_type": "code",
   "execution_count": 211,
   "id": "01a776c9-4ca1-4efc-b54a-5c1c9f83111e",
   "metadata": {},
   "outputs": [
    {
     "name": "stdout",
     "output_type": "stream",
     "text": [
      "Erro Quadrático Médio da Rede Neural: 1.9674715150197804e+126\n"
     ]
    }
   ],
   "source": [
    "mse = mean_squared_error(y_test, y_pred)\n",
    "print(f\"Erro Quadrático Médio da Rede Neural: {mse}\")"
   ]
  },
  {
   "cell_type": "code",
   "execution_count": null,
   "id": "f9f2f441-4fee-4310-8167-a8dd1e94db07",
   "metadata": {},
   "outputs": [],
   "source": []
  }
 ],
 "metadata": {
  "kernelspec": {
   "display_name": "Python 3 (ipykernel)",
   "language": "python",
   "name": "python3"
  },
  "language_info": {
   "codemirror_mode": {
    "name": "ipython",
    "version": 3
   },
   "file_extension": ".py",
   "mimetype": "text/x-python",
   "name": "python",
   "nbconvert_exporter": "python",
   "pygments_lexer": "ipython3",
   "version": "3.11.7"
  }
 },
 "nbformat": 4,
 "nbformat_minor": 5
}
