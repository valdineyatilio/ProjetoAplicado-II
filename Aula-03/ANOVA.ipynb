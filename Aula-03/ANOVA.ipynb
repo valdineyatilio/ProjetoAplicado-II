{
 "cells": [
  {
   "cell_type": "markdown",
   "id": "b6ff3da2-79cb-45a2-914f-3deb14d31b4d",
   "metadata": {},
   "source": [
    "# Biblioteca"
   ]
  },
  {
   "cell_type": "code",
   "execution_count": 87,
   "id": "10e56e27-bd21-4273-8d31-35cec3da6ba6",
   "metadata": {},
   "outputs": [],
   "source": [
    "#Comparar video views entre diferentes categorias"
   ]
  },
  {
   "cell_type": "code",
   "execution_count": 89,
   "id": "d365951a-e816-48e3-8b8d-bb48e8d662ea",
   "metadata": {},
   "outputs": [],
   "source": [
    "import pandas as pd\n",
    "from scipy.stats import f_oneway"
   ]
  },
  {
   "cell_type": "markdown",
   "id": "a4f84238-2bc3-4b5c-bcb5-f175fd684a98",
   "metadata": {},
   "source": [
    "# Carregar a base de dados"
   ]
  },
  {
   "cell_type": "code",
   "execution_count": 92,
   "id": "8212e5dc-789e-444f-be06-3ed99b649653",
   "metadata": {},
   "outputs": [],
   "source": [
    "url = \"https://github.com/valdineyatilio/ProjetoAplicado-II/raw/refs/heads/main/Aula-02/BaseDeDadosYouTube.csv\"\n",
    "dados_youtube = pd.read_csv(url, encoding='latin1')"
   ]
  },
  {
   "cell_type": "markdown",
   "id": "a49fd036-90aa-408f-b6bc-45596eb3dfa7",
   "metadata": {},
   "source": [
    "# Preparar os dados"
   ]
  },
  {
   "cell_type": "code",
   "execution_count": 94,
   "id": "2fd80e18-9446-4881-beec-94da67b4bc97",
   "metadata": {},
   "outputs": [],
   "source": [
    "categorias = dados_youtube['category'].unique()\n",
    "grupos = [dados_youtube[dados_youtube['category'] == categoria]['video views'] for categoria in categorias]\n"
   ]
  },
  {
   "cell_type": "markdown",
   "id": "33952a1c-9e8c-4483-a0c1-40650957d70e",
   "metadata": {},
   "source": [
    "# Filtrar grupos não vazios"
   ]
  },
  {
   "cell_type": "code",
   "execution_count": 98,
   "id": "cdeaab56-1973-48ff-a497-bc38eaa96258",
   "metadata": {},
   "outputs": [],
   "source": [
    "grupos_nao_vazios = [grupo for grupo in grupos if len(grupo) > 0]"
   ]
  },
  {
   "cell_type": "markdown",
   "id": "384fd576-bc95-4601-9e96-90badef08954",
   "metadata": {},
   "source": [
    "# Verificar se há pelo menos dois grupos para realizar a ANOVA"
   ]
  },
  {
   "cell_type": "code",
   "execution_count": 101,
   "id": "68db90a2-167f-4de7-b9a9-3a294650a3ed",
   "metadata": {},
   "outputs": [
    {
     "name": "stdout",
     "output_type": "stream",
     "text": [
      "Estatística F: 5.088962289768316, Valor p: 9.544636000302483e-11\n"
     ]
    }
   ],
   "source": [
    "if len(grupos_nao_vazios) > 1:\n",
    "    # Realizar ANOVA\n",
    "    f_stat, p_val = f_oneway(*grupos_nao_vazios)\n",
    "    print(f\"Estatística F: {f_stat}, Valor p: {p_val}\")\n",
    "else:\n",
    "    print(\"Não há grupos suficientes com dados para realizar a ANOVA.\")"
   ]
  },
  {
   "cell_type": "code",
   "execution_count": null,
   "id": "c4c48e98-986d-4513-8457-43ced934b090",
   "metadata": {},
   "outputs": [],
   "source": []
  }
 ],
 "metadata": {
  "kernelspec": {
   "display_name": "Python 3 (ipykernel)",
   "language": "python",
   "name": "python3"
  },
  "language_info": {
   "codemirror_mode": {
    "name": "ipython",
    "version": 3
   },
   "file_extension": ".py",
   "mimetype": "text/x-python",
   "name": "python",
   "nbconvert_exporter": "python",
   "pygments_lexer": "ipython3",
   "version": "3.11.7"
  }
 },
 "nbformat": 4,
 "nbformat_minor": 5
}
